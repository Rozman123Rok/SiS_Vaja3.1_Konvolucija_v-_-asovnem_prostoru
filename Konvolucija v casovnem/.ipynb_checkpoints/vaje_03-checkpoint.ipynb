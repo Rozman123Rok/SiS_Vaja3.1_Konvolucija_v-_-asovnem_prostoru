{
 "cells": [
  {
   "cell_type": "markdown",
   "metadata": {},
   "source": [
    "### Konvolucija"
   ]
  },
  {
   "cell_type": "code",
   "execution_count": null,
   "metadata": {},
   "outputs": [],
   "source": [
    "#%pylab inline\n",
    "\n",
    "import numpy as np\n",
    "import matplotlib.pyplot as plt\n",
    "\n",
    "from matplotlib import animation\n",
    "from IPython.display import HTML"
   ]
  },
  {
   "cell_type": "markdown",
   "metadata": {},
   "source": [
    "#### preprosti primeri s for zanko\n",
    "\n",
    "Originalna formula za konvolucijo (samo vzročni del):\n",
    "\n",
    "$$\n",
    "y(n) = \\sum_{k=0}^\\infty x(k) \\cdot h(n-k) ~~~ za ~~~ n=0,1,2,...\n",
    "$$"
   ]
  },
  {
   "cell_type": "markdown",
   "metadata": {},
   "source": [
    "v našem primeru je prvi element x oz. h na indeksu 1 (in ne na 0, kot je v zgornji formuli), torej\n",
    "\n",
    "\n",
    "$$\n",
    "y(n) = \\sum_{k=0}^\\infty x(k+1) \\cdot h(n-k) ~~~ za ~~~ n=1,2,...\n",
    "$$"
   ]
  },
  {
   "cell_type": "markdown",
   "metadata": {},
   "source": [
    "**OPOMBA**: pri n-k se vpliv postavitve začetnega indeksa izniči: n+1 - (k+1) = n-k\n",
    "\n",
    "n je smiselno omejiti z zgornjo mejo len(x)+len(h)-1, saj so naprej samoe ničle ...\n",
    "\n",
    "zaradi h(n-k) mora biti n-k med 1 in len(h), torej mora biti med n-len(h) in n-1 ampak samo za pozitivne n-k!\n",
    "\n",
    "zaradi x(k+1) mora teci k med 0 in len(x)-1"
   ]
  },
  {
   "cell_type": "code",
   "execution_count": null,
   "metadata": {
    "scrolled": true
   },
   "outputs": [],
   "source": [
    "x = np.array([1, 2, 3, 4, 3, 2, 1])\n",
    "h = np.array([1, 2, 1])\n",
    "\n",
    "N = x.shape[0]+h.shape[0]-1\n",
    "y = np.zeros(N)\n",
    "for n in range(N):\n",
    "    print('....')\n",
    "    print(f'n={n}')\n",
    "    \n",
    "    for k in range(max(n-h.shape[0]+1,0), min(n+1, x.shape[0])):\n",
    "        print(f'    k={k}')\n",
    "        print(f'        n-k={n-k}')\n",
    "        y[n] = y[n]+x[k]*h[n-k]"
   ]
  },
  {
   "cell_type": "code",
   "execution_count": null,
   "metadata": {},
   "outputs": [],
   "source": [
    "y2 = np.convolve(x, h)"
   ]
  },
  {
   "cell_type": "code",
   "execution_count": null,
   "metadata": {},
   "outputs": [],
   "source": [
    "plt.figure()\n",
    "\n",
    "plt.plot(y, linewidth=2, label='for zanka')\n",
    "plt.plot(y2, 'r:', linewidth=2, label='conv')\n",
    "plt.xlabel('vzorci')\n",
    "plt.ylabel('amplituda')\n",
    "plt.tight_layout()\n",
    "plt.legend(loc='best')\n",
    "\n",
    "plt.show()"
   ]
  },
  {
   "cell_type": "markdown",
   "metadata": {},
   "source": [
    "#### Preprosti primeri s for zanko"
   ]
  },
  {
   "cell_type": "code",
   "execution_count": null,
   "metadata": {},
   "outputs": [],
   "source": [
    "x = np.concatenate((np.zeros(50), [1], np.zeros(50)))\n",
    "h = np.concatenate((np.arange(0, 1, 0.1), \n",
    "                    np.arange(1, 0, -0.025)))\n",
    "\n",
    "plt.figure()\n",
    "plt.subplot(2, 1, 1)\n",
    "plt.plot(x, 'b', linewidth=2)\n",
    "plt.tight_layout()\n",
    "plt.xlabel('vzorci')\n",
    "plt.ylabel('aplituda')\n",
    "plt.title('vhod (x)')\n",
    "plt.subplot(2, 1, 2)\n",
    "plt.plot(h, 'g', linewidth=2)\n",
    "plt.tight_layout()\n",
    "plt.xlabel('vzorci')\n",
    "plt.ylabel('aplituda')\n",
    "plt.title('odziv (h)')\n",
    "\n",
    "plt.show()"
   ]
  },
  {
   "cell_type": "code",
   "execution_count": null,
   "metadata": {},
   "outputs": [],
   "source": [
    "%%capture\n",
    "y = np.zeros(x.shape[0]+h.shape[0]-1)\n",
    "\n",
    "fig = plt.figure()\n",
    "\n",
    "plt.plot(x, 'b', linewidth=2, label='vhod (x)')\n",
    "\n",
    "\n",
    "h_ind = np.arange(h.shape[0],0, -1)-1\n",
    "h_line_art, = plt.plot(-h_ind, h[::-1], 'g', linewidth=2, label='odziv (h)')\n",
    "y_line_art, = plt.plot(y, 'r', linewidth=2, label='izhod (y)')\n",
    "    \n",
    "plt.tight_layout()\n",
    "plt.xlabel('vzorci')\n",
    "plt.ylabel('amplituda')\n",
    "plt.legend(loc='upper left')\n",
    "\n",
    "n_range = range(y.shape[0])    \n",
    "\n",
    "\n",
    "def animate(n):\n",
    "    if n == 0:\n",
    "        y[:]=0\n",
    "    for k in range(max(n-h.shape[0]+1,0), min(n+1, x.shape[0])):\n",
    "        y[n] = y[n]+x[k]*h[n-k]\n",
    "            \n",
    "    h_line_art.set_data(n-h_ind, h)\n",
    "    y_line_art.set_data(np.arange(y.shape[0]), y)\n",
    "    \n",
    "    #plt.cla()\n",
    "    #plt.plot(x, 'b', linewidth=2, label='vhod (x)')\n",
    "    #plt.plot(n-h_ind, h[::-1], 'g', linewidth=2, label='odziv (h)')\n",
    "    #plt.plot(y, 'r', linewidth=2, label='izhod (y)')\n",
    "    \n",
    "anim = animation.FuncAnimation(fig, \n",
    "                               animate,\n",
    "                               frames=n_range, \n",
    "                               interval=50, \n",
    "                               blit=False)"
   ]
  },
  {
   "cell_type": "code",
   "execution_count": null,
   "metadata": {},
   "outputs": [],
   "source": [
    "HTML(anim.to_jshtml())"
   ]
  },
  {
   "cell_type": "code",
   "execution_count": null,
   "metadata": {},
   "outputs": [],
   "source": [
    "plt.figure()\n",
    "plt.subplot(3, 1, 1)\n",
    "plt.plot(x, linewidth=2)\n",
    "plt.title('x')\n",
    "plt.xlabel('vzorci')\n",
    "plt.ylabel('amplituda')\n",
    "plt.subplot(3, 1, 2)\n",
    "plt.plot(h, 'g', linewidth=2)\n",
    "plt.title('h')\n",
    "plt.xlabel('vzorci')\n",
    "plt.ylabel('amplituda')\n",
    "plt.subplot(3, 1, 3)\n",
    "plt.plot(y, 'r', linewidth=2)\n",
    "plt.title('y')\n",
    "plt.xlabel('vzorci')\n",
    "plt.ylabel('amplituda')\n",
    "plt.tight_layout()\n",
    "\n",
    "plt.show()"
   ]
  },
  {
   "cell_type": "code",
   "execution_count": null,
   "metadata": {},
   "outputs": [],
   "source": [
    "d = 30 # razmik impulzov\n",
    "x = np.zeros(100)\n",
    "x[::d] = 1\n",
    "h = np.concatenate((np.arange(0, 1, 0.1), \n",
    "                   np.arange(1, 0, -0.025)))\n",
    "\n",
    "x[0] = 2\n",
    "\n",
    "plt.figure()\n",
    "plt.subplot(2, 1, 1)\n",
    "plt.plot(x, 'b', linewidth=2)\n",
    "plt.xlabel('vzorci')\n",
    "plt.ylabel('amplituda')\n",
    "plt.title('vhod (x)')\n",
    "plt.subplot(2, 1, 2)\n",
    "plt.plot(h, 'g', linewidth=2)\n",
    "plt.xlabel('vzorci')\n",
    "plt.ylabel('amplituda')\n",
    "plt.title('odziv (h)')\n",
    "\n",
    "plt.show()"
   ]
  },
  {
   "cell_type": "code",
   "execution_count": null,
   "metadata": {},
   "outputs": [],
   "source": [
    "%%capture\n",
    "y = np.zeros(x.shape[0]+h.shape[0]-1)\n",
    "\n",
    "fig = plt.figure()\n",
    "\n",
    "plt.plot(x, 'b', linewidth=2, label='vhod (x)')\n",
    "\n",
    "\n",
    "h_ind = np.arange(h.shape[0],0, -1)-1\n",
    "h_line_art, = plt.plot(-h_ind, h[::-1], 'g', linewidth=2, label='odziv (h)')\n",
    "y_line_art, = plt.plot(y, 'r', linewidth=2, label='izhod (y)')\n",
    "    \n",
    "plt.tight_layout()\n",
    "plt.xlabel('vzorci')\n",
    "plt.ylabel('amplituda')\n",
    "plt.legend(loc='upper left')\n",
    "\n",
    "n_range = range(y.shape[0])    \n",
    "\n",
    "\n",
    "def animate(n):\n",
    "    if n == 0:\n",
    "        y[:]=0\n",
    "    for k in range(max(n-h.shape[0]+1,0), min(n+1, x.shape[0])):\n",
    "        y[n] = y[n]+x[k]*h[n-k]\n",
    "            \n",
    "    h_line_art.set_data(n-h_ind, h)\n",
    "    y_line_art.set_data(np.arange(y.shape[0]), y)\n",
    "    \n",
    "    #plt.cla()\n",
    "    #plt.plot(x, 'b', linewidth=2, label='vhod (x)')\n",
    "    #plt.plot(n-h_ind, h[::-1], 'g', linewidth=2, label='odziv (h)')\n",
    "    #plt.plot(y, 'r', linewidth=2, label='izhod (y)')\n",
    "    \n",
    "anim = animation.FuncAnimation(fig, \n",
    "                               animate,\n",
    "                               frames=n_range, \n",
    "                               interval=50, \n",
    "                               blit=False)"
   ]
  },
  {
   "cell_type": "code",
   "execution_count": null,
   "metadata": {},
   "outputs": [],
   "source": [
    "HTML(anim.to_jshtml())"
   ]
  },
  {
   "cell_type": "code",
   "execution_count": null,
   "metadata": {},
   "outputs": [],
   "source": [
    "plt.figure()\n",
    "plt.subplot(3, 1, 1)\n",
    "plt.plot(x, linewidth=2)\n",
    "plt.title('x')\n",
    "plt.xlabel('vzorci')\n",
    "plt.ylabel('amplituda')\n",
    "plt.subplot(3, 1, 2)\n",
    "plt.plot(h, 'g', linewidth=2)\n",
    "plt.title('h')\n",
    "plt.xlabel('vzorci')\n",
    "plt.ylabel('amplituda')\n",
    "plt.subplot(3, 1, 3)\n",
    "plt.plot(y, 'r', linewidth=2)\n",
    "plt.title('y')\n",
    "plt.xlabel('vzorci')\n",
    "plt.ylabel('amplituda')\n",
    "plt.tight_layout()\n",
    "\n",
    "plt.show()"
   ]
  },
  {
   "cell_type": "markdown",
   "metadata": {},
   "source": [
    "#### Preprosti primeri s funkcijo np.convolve"
   ]
  },
  {
   "cell_type": "code",
   "execution_count": null,
   "metadata": {},
   "outputs": [],
   "source": [
    "x = np.concatenate((np.zeros(50), [1], np.zeros(50)))\n",
    "h = np.concatenate((np.arange(0, 1, 0.1),\n",
    "                    np.arange(1, 0, -0.025)))\n",
    "\n",
    "\n",
    "plt.figure()\n",
    "plt.subplot(3, 1, 1)\n",
    "plt.plot(x, linewidth=2)\n",
    "plt.title('x')\n",
    "plt.xlabel('vzorci')\n",
    "plt.ylabel('amplituda')\n",
    "plt.subplot(3, 1, 2)\n",
    "plt.plot(h, 'g', linewidth=2)\n",
    "plt.title('h')\n",
    "plt.xlabel('vzorci')\n",
    "plt.ylabel('amplituda')\n",
    "plt.subplot(3, 1, 3)\n",
    "plt.plot(np.convolve(x, h), 'r', linewidth=2)\n",
    "plt.title('np.convolve(x, h)')\n",
    "plt.xlabel('vzorci')\n",
    "plt.ylabel('amplituda')\n",
    "plt.tight_layout()\n",
    "\n",
    "plt.show()"
   ]
  },
  {
   "cell_type": "code",
   "execution_count": null,
   "metadata": {},
   "outputs": [],
   "source": [
    "x = np.concatenate((np.zeros(50), [1], \n",
    "                    np.zeros(25), [1],\n",
    "                    np.zeros(50)))\n",
    "h = np.concatenate((np.arange(0, 1, 0.1),\n",
    "                    np.arange(1, 0, -0.025)))\n",
    "\n",
    "\n",
    "plt.figure()\n",
    "plt.subplot(3, 1, 1)\n",
    "plt.plot(x, linewidth=2)\n",
    "plt.title('x')\n",
    "plt.xlabel('vzorci')\n",
    "plt.ylabel('amplituda')\n",
    "plt.subplot(3, 1, 2)\n",
    "plt.plot(h, 'g', linewidth=2)\n",
    "plt.title('h')\n",
    "plt.xlabel('vzorci')\n",
    "plt.ylabel('amplituda')\n",
    "plt.subplot(3, 1, 3)\n",
    "plt.plot(np.convolve(x, h), 'r', linewidth=2)\n",
    "plt.title('np.convolve(x, h)')\n",
    "plt.xlabel('vzorci')\n",
    "plt.ylabel('amplituda')\n",
    "plt.tight_layout()\n",
    "\n",
    "plt.show()"
   ]
  },
  {
   "cell_type": "markdown",
   "metadata": {},
   "source": [
    "#### Bolj kompleksen primer ...."
   ]
  },
  {
   "cell_type": "code",
   "execution_count": null,
   "metadata": {},
   "outputs": [],
   "source": [
    "d = 20\n",
    "\n",
    "x = np.concatenate((np.zeros(50), [1], \n",
    "                    np.zeros(d), [1],\n",
    "                    np.zeros(d), [1],\n",
    "                    np.zeros(50)))\n",
    "#h = np.concatenate((np.arange(0, 1, 0.1),\n",
    "#                    np.arange(1, 0, -0.025)))\n",
    "h = np.random.rand(30)\n",
    "\n",
    "plt.figure()\n",
    "plt.subplot(3, 1, 1)\n",
    "plt.plot(x, linewidth=2)\n",
    "plt.title('x')\n",
    "plt.xlabel('vzorci')\n",
    "plt.ylabel('amplituda')\n",
    "plt.subplot(3, 1, 2)\n",
    "plt.plot(h, 'g', linewidth=2)\n",
    "plt.title('h')\n",
    "plt.xlabel('vzorci')\n",
    "plt.ylabel('amplituda')\n",
    "plt.subplot(3, 1, 3)\n",
    "plt.plot(np.convolve(x, h), 'r', linewidth=2)\n",
    "plt.title('np.convolve(x, h)')\n",
    "plt.xlabel('vzorci')\n",
    "plt.ylabel('amplituda')\n",
    "plt.tight_layout()\n",
    "\n",
    "plt.show()"
   ]
  },
  {
   "cell_type": "markdown",
   "metadata": {},
   "source": [
    "## Algebraične lastnosti konvolucije\n",
    "\n",
    "#### Komutativnost\n",
    "\n",
    "$\n",
    "f \\ast g = g \\ast f\n",
    "$\n",
    "\n",
    "#### Asociativnost\n",
    "\n",
    "$\n",
    "f \\ast ( g \\ast h ) = (f \\ast g) \\ast h\n",
    "$\n",
    "\n",
    "#### Distributivnost\n",
    "\n",
    "$\n",
    "f \\ast (g + h) = (f \\ast g) + (f \\ast h)\n",
    "$\n",
    "\n",
    "#### Asociativnost s skalarnim množenjem\n",
    "\n",
    "$\n",
    "a \\cdot (f \\ast g) = (a \\cdot f) \\ast g = f \\ast (a \\cdot g)\n",
    "$\n",
    "\n",
    "#### Komutativnost \n",
    "\n",
    "$\n",
    "x \\ast h = h \\ast x\n",
    "$"
   ]
  },
  {
   "cell_type": "markdown",
   "metadata": {},
   "source": [
    "### Komutativnost\n",
    "\n",
    "Ta primer ni ravno dobra demonstracija komutativnosti, zakaj?"
   ]
  },
  {
   "cell_type": "code",
   "execution_count": null,
   "metadata": {},
   "outputs": [],
   "source": [
    "x = np.concatenate((np.zeros(50), [1], np.zeros(50)))\n",
    "h = np.concatenate((np.arange(0, 1, 0.1),\n",
    "                    np.arange(1, 0, -0.025)))\n",
    "\n",
    "\n",
    "plt.figure()\n",
    "plt.subplot(2, 1, 1)\n",
    "plt.plot(np.convolve(x, h), linewidth=2)\n",
    "plt.title('np.convolve(x, h)')\n",
    "plt.xlabel('vzorci')\n",
    "plt.ylabel('amplituda')\n",
    "plt.subplot(2, 1, 2)\n",
    "plt.plot(np.convolve(h, x), 'g', linewidth=2)\n",
    "plt.title('np.convolve(h, x)')\n",
    "plt.xlabel('vzorci')\n",
    "plt.ylabel('amplituda')\n",
    "plt.tight_layout()\n",
    "\n",
    "plt.show()"
   ]
  },
  {
   "cell_type": "markdown",
   "metadata": {},
   "source": [
    "### Asociativnost"
   ]
  },
  {
   "cell_type": "code",
   "execution_count": null,
   "metadata": {},
   "outputs": [],
   "source": [
    "x = np.concatenate((np.zeros(50), [1], np.zeros(50)))\n",
    "h = np.concatenate((np.arange(0, 1, 0.1),\n",
    "                    np.arange(1, 0, -0.025)))\n",
    "g = np.sin(np.arange(0, np.pi, 0.1))\n",
    "\n",
    "\n",
    "plt.figure()\n",
    "plt.subplot(2, 1, 1)\n",
    "plt.plot(np.convolve(g, np.convolve(x, h)), linewidth=2)\n",
    "plt.title('np.convolve(g, np.convolve(x, h))')\n",
    "plt.xlabel('vzorci')\n",
    "plt.ylabel('amplituda')\n",
    "plt.subplot(2, 1, 2)\n",
    "plt.plot(np.convolve(np.convolve(g, x), h), 'g', linewidth=2)\n",
    "plt.title('np.convolve(np.convolve(g, x), h)')\n",
    "plt.xlabel('vzorci')\n",
    "plt.ylabel('amplituda')\n",
    "plt.tight_layout()\n",
    "\n",
    "plt.show()"
   ]
  },
  {
   "cell_type": "markdown",
   "metadata": {},
   "source": [
    "### Distributivnost"
   ]
  },
  {
   "cell_type": "code",
   "execution_count": null,
   "metadata": {},
   "outputs": [],
   "source": [
    "x = np.concatenate((np.zeros(50), [1], np.zeros(50)))\n",
    "h = np.cos(np.arange(0, np.pi, 0.05))\n",
    "g = np.sin(np.arange(0, np.pi, 0.05))\n",
    "\n",
    "\n",
    "plt.figure()\n",
    "plt.subplot(2, 1, 1)\n",
    "plt.plot(np.convolve(x, g+h), linewidth=2)\n",
    "plt.title('np.convolve(x, g+h)')\n",
    "plt.xlabel('vzorci')\n",
    "plt.ylabel('amplituda')\n",
    "plt.subplot(2, 1, 2)\n",
    "plt.plot(np.convolve(x, g)+np.convolve(x, h), 'g', linewidth=2)\n",
    "plt.title('np.convolve(x, g)+np.convolve(x, h)')\n",
    "plt.xlabel('vzorci')\n",
    "plt.ylabel('amplituda')\n",
    "plt.tight_layout()\n",
    "\n",
    "plt.show()"
   ]
  },
  {
   "cell_type": "markdown",
   "metadata": {},
   "source": [
    "### Asociativnost s skalarnim množenjem"
   ]
  },
  {
   "cell_type": "code",
   "execution_count": null,
   "metadata": {},
   "outputs": [],
   "source": [
    "x = np.concatenate((np.zeros(50), [1], np.zeros(50)))\n",
    "h = np.sin(np.arange(0, np.pi, 0.05))\n",
    "a = np.random.rand(1)[0]\n",
    "\n",
    "plt.figure()\n",
    "plt.subplot(3, 1, 1)\n",
    "plt.plot(a*np.convolve(x, h), linewidth=2)\n",
    "plt.title('a*np.convolve(x, h)')\n",
    "plt.xlabel('vzorci')\n",
    "plt.ylabel('amplituda')\n",
    "plt.subplot(3, 1, 2)\n",
    "plt.plot(np.convolve(a*x, h), 'g', linewidth=2)\n",
    "plt.title('np.convolve(a*x, h)')\n",
    "plt.xlabel('vzorci')\n",
    "plt.ylabel('amplituda')\n",
    "plt.subplot(3, 1, 3)\n",
    "plt.plot(np.convolve(x, a*h), 'r', linewidth=2)\n",
    "plt.title('np.convolve(x, a*h)')\n",
    "plt.xlabel('vzorci')\n",
    "plt.ylabel('amplituda')\n",
    "plt.tight_layout()\n",
    "\n",
    "plt.show()"
   ]
  },
  {
   "cell_type": "markdown",
   "metadata": {},
   "source": [
    "### Konvolucija in govor\n",
    "\n",
    "Impulzni odzivi prostorov: [link](http://www.voxengo.com/impulses)"
   ]
  },
  {
   "cell_type": "code",
   "execution_count": null,
   "metadata": {},
   "outputs": [],
   "source": [
    "import sounddevice as sd\n",
    "from scipy.io import wavfile"
   ]
  },
  {
   "cell_type": "code",
   "execution_count": null,
   "metadata": {},
   "outputs": [],
   "source": [
    "# posnamimo govor\n",
    "\n",
    "Fvz = 44100 # vzorčevalna frekvenca\n",
    "T = 0.5 # dolžina signala v sekundah\n",
    "bres = 'int16' # bitna ločljivost (float64, float32, int32, int16, int8, uint8)\n",
    "nchans = 2 # 1 (mono), 2 (stereo)\n",
    "\n",
    "posnetek = sd.rec(int(T * Fvz), samplerate=Fvz, channels=nchans, dtype=bres)\n",
    "sd.wait()\n",
    "\n",
    "posnetek = posnetek / np.max(np.abs(posnetek)) # normalizirajmo\n",
    "\n",
    "plt.figure()\n",
    "\n",
    "plt.subplot(2, 1, 1)\n",
    "plt.plot(posnetek[:,0])\n",
    "plt.title('Kanal 1')\n",
    "plt.xlabel('čas (s)')\n",
    "plt.ylabel('amplituda')\n",
    "plt.subplot(2, 1, 2)\n",
    "plt.plot(posnetek[:,1])\n",
    "plt.title('Kanal 2')\n",
    "plt.xlabel('čas (s)')\n",
    "plt.ylabel('amplituda')\n",
    "\n",
    "plt.show()"
   ]
  },
  {
   "cell_type": "code",
   "execution_count": null,
   "metadata": {},
   "outputs": [],
   "source": [
    "sd.play(posnetek, Fvz)\n",
    "sd.wait()"
   ]
  },
  {
   "cell_type": "code",
   "execution_count": null,
   "metadata": {},
   "outputs": [],
   "source": [
    "# naložim oimpulzni odziv sobe (http://www.voxengo.com/impulses/)\n",
    "\n",
    "#Fvz_i, h = wavfile.read('IMreverbs/Going Home.wav')\n",
    "Fvz_i, h = wavfile.read('IMreverbs/Deep Space.wav')\n",
    "\n",
    "h = h / np.max(np.abs(h)) # normalizirajmo\n",
    "\n",
    "plt.figure()\n",
    "\n",
    "plt.subplot(2, 1, 1)\n",
    "plt.plot(h[:,0])\n",
    "plt.title('Kanal 1')\n",
    "plt.xlabel('čas (s)')\n",
    "plt.ylabel('amplituda')\n",
    "plt.subplot(2, 1, 2)\n",
    "plt.plot(h[:,1])\n",
    "plt.title('Kanal 2')\n",
    "plt.xlabel('čas (s)')\n",
    "plt.ylabel('amplituda')\n",
    "\n",
    "plt.show()"
   ]
  },
  {
   "cell_type": "code",
   "execution_count": null,
   "metadata": {},
   "outputs": [],
   "source": [
    "sd.play(h / np.max(np.abs(h)), Fvz_i)\n",
    "sd.wait()"
   ]
  },
  {
   "cell_type": "markdown",
   "metadata": {},
   "source": [
    "### Konvolucija v časovni domeni s for zanko"
   ]
  },
  {
   "cell_type": "code",
   "execution_count": null,
   "metadata": {},
   "outputs": [],
   "source": [
    "%%time\n",
    "\n",
    "efekt = np.zeros((posnetek.shape[0] + h.shape[0]-1, 2))\n",
    "posnetekNorm = posnetek #*np.linalg.norm(posnetek)#\n",
    "\n",
    "for n in np.arange(efekt.shape[0]):\n",
    "    for k in np.arange(max(n-h.shape[0]+1, 0), min(n+1, posnetek.shape[0])):\n",
    "        efekt[n, 0] += posnetekNorm[k, 0] * h[n-k, 0]\n",
    "        efekt[n, 1] += posnetekNorm[k, 1] * h[n-k, 1]"
   ]
  },
  {
   "cell_type": "code",
   "execution_count": null,
   "metadata": {},
   "outputs": [],
   "source": [
    "plt.figure()\n",
    "\n",
    "plt.subplot(2, 1, 1)\n",
    "plt.plot(np.arange(efekt.shape[0])/Fvz, efekt[:, 0], 'r')\n",
    "plt.plot(np.arange(posnetek.shape[0])/Fvz, posnetek[:, 0])\n",
    "plt.title('Kanal 1')\n",
    "plt.xlabel('čas (s)')\n",
    "plt.ylabel('amplituda')\n",
    "plt.subplot(2, 1, 2)\n",
    "plt.plot(np.arange(efekt.shape[0])/Fvz, efekt[:, 1], 'r')\n",
    "plt.plot(np.arange(posnetek.shape[0])/Fvz, posnetek[:, 1])\n",
    "plt.title('Kanal 2')\n",
    "plt.xlabel('čas (s)')\n",
    "plt.ylabel('amplituda')\n",
    "plt.tight_layout()\n",
    "\n",
    "plt.show()"
   ]
  },
  {
   "cell_type": "code",
   "execution_count": null,
   "metadata": {},
   "outputs": [],
   "source": [
    "sd.play(efekt, Fvz)\n",
    "sd.wait()"
   ]
  },
  {
   "cell_type": "markdown",
   "metadata": {},
   "source": [
    "### Konvolucija v časovni domeni z vektorskimi operacijami"
   ]
  },
  {
   "cell_type": "code",
   "execution_count": null,
   "metadata": {},
   "outputs": [],
   "source": [
    "%%time\n",
    "\n",
    "efekt = np.zeros((posnetek.shape[0] + h.shape[0]-1, 2))\n",
    "posnetekNorm = posnetek #* np.linalg.norm(posnetek)\n",
    "\n",
    "for n in np.arange(efekt.shape[0]):\n",
    "    i0 = max(n-h.shape[0]+1, 0)\n",
    "    i1 = min(n+1, posnetek.shape[0])\n",
    "    efekt[n, :] = np.sum(posnetekNorm[i0:i1, :] * h[::-1, :][:i1-i0, :])"
   ]
  },
  {
   "cell_type": "code",
   "execution_count": null,
   "metadata": {},
   "outputs": [],
   "source": [
    "plt.figure()\n",
    "\n",
    "plt.subplot(2, 1, 1)\n",
    "plt.plot(np.arange(efekt.shape[0])/Fvz, efekt[:, 0], 'r')\n",
    "plt.plot(np.arange(posnetek.shape[0])/Fvz, posnetek[:, 0])\n",
    "plt.title('Kanal 1')\n",
    "plt.xlabel('čas (s)')\n",
    "plt.ylabel('amplituda')\n",
    "plt.subplot(2, 1, 2)\n",
    "plt.plot(np.arange(efekt.shape[0])/Fvz, efekt[:, 1], 'r')\n",
    "plt.plot(np.arange(posnetek.shape[0])/Fvz, posnetek[:, 1])\n",
    "plt.title('Kanal 2')\n",
    "plt.xlabel('čas (s)')\n",
    "plt.ylabel('amplituda')\n",
    "plt.tight_layout()\n",
    "\n",
    "plt.show()"
   ]
  },
  {
   "cell_type": "markdown",
   "metadata": {},
   "source": [
    "### Konvolucija v časovni domeni s klicem funkcije"
   ]
  },
  {
   "cell_type": "code",
   "execution_count": null,
   "metadata": {},
   "outputs": [],
   "source": [
    "%%time\n",
    "\n",
    "efekt = np.zeros((posnetek.shape[0] + h.shape[0]-1, 2))\n",
    "posnetekNorm = posnetek #* np.linalg.norm(posnetek)\n",
    "\n",
    "efekt[:, 0] = np.convolve(posnetekNorm[:, 0], h[:, 0])\n",
    "efekt[:, 1] = np.convolve(posnetekNorm[:, 1], h[:, 1])"
   ]
  },
  {
   "cell_type": "code",
   "execution_count": null,
   "metadata": {},
   "outputs": [],
   "source": [
    "plt.figure()\n",
    "\n",
    "plt.subplot(2, 1, 1)\n",
    "plt.plot(np.arange(efekt.shape[0])/Fvz, efekt[:, 0], 'r')\n",
    "plt.plot(np.arange(posnetek.shape[0])/Fvz, posnetek[:, 0])\n",
    "plt.title('Kanal 1')\n",
    "plt.xlabel('čas (s)')\n",
    "plt.ylabel('amplituda')\n",
    "plt.subplot(2, 1, 2)\n",
    "plt.plot(np.arange(efekt.shape[0])/Fvz, efekt[:, 1], 'r')\n",
    "plt.plot(np.arange(posnetek.shape[0])/Fvz, posnetek[:, 1])\n",
    "plt.title('Kanal 2')\n",
    "plt.xlabel('čas (s)')\n",
    "plt.ylabel('amplituda')\n",
    "plt.tight_layout()\n",
    "\n",
    "plt.show()"
   ]
  },
  {
   "cell_type": "markdown",
   "metadata": {},
   "source": [
    "### Konvolucija v frekvenčni domeni z vektorsko operacijo"
   ]
  },
  {
   "cell_type": "code",
   "execution_count": null,
   "metadata": {},
   "outputs": [],
   "source": [
    "%%time\n",
    "\n",
    "N = posnetek.shape[0] + h.shape[0] - 1\n",
    "\n",
    "X = np.fft.fft(posnetek, n=N, axis=0)\n",
    "Y = np.fft.fft(h, n=N, axis=0)\n",
    "efekt = np.real(np.fft.ifft(X*Y, axis=0))"
   ]
  },
  {
   "cell_type": "code",
   "execution_count": null,
   "metadata": {},
   "outputs": [],
   "source": [
    "plt.figure()\n",
    "\n",
    "plt.subplot(2, 1, 1)\n",
    "plt.plot(np.arange(efekt.shape[0])/Fvz, efekt[:, 0], 'r')\n",
    "plt.plot(np.arange(posnetek.shape[0])/Fvz, posnetek[:, 0])\n",
    "plt.title('Kanal 1')\n",
    "plt.xlabel('čas (s)')\n",
    "plt.ylabel('amplituda')\n",
    "plt.subplot(2, 1, 2)\n",
    "plt.plot(np.arange(efekt.shape[0])/Fvz, efekt[:, 1], 'r')\n",
    "plt.plot(np.arange(posnetek.shape[0])/Fvz, posnetek[:, 1])\n",
    "plt.title('Kanal 2')\n",
    "plt.xlabel('čas (s)')\n",
    "plt.ylabel('amplituda')\n",
    "plt.tight_layout()\n",
    "\n",
    "plt.show()"
   ]
  }
 ],
 "metadata": {
  "kernelspec": {
   "display_name": "Python 3",
   "language": "python",
   "name": "python3"
  },
  "language_info": {
   "codemirror_mode": {
    "name": "ipython",
    "version": 3
   },
   "file_extension": ".py",
   "mimetype": "text/x-python",
   "name": "python",
   "nbconvert_exporter": "python",
   "pygments_lexer": "ipython3",
   "version": "3.7.4"
  }
 },
 "nbformat": 4,
 "nbformat_minor": 2
}
